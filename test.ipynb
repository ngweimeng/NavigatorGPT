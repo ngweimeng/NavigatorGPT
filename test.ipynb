{
 "cells": [
  {
   "cell_type": "code",
   "execution_count": 4,
   "metadata": {},
   "outputs": [
    {
     "name": "stderr",
     "output_type": "stream",
     "text": [
      "/Users/weimengng/Documents/VSCode/Navigator/venv/lib/python3.12/site-packages/pinecone/data/index.py:1: TqdmWarning: IProgress not found. Please update jupyter and ipywidgets. See https://ipywidgets.readthedocs.io/en/stable/user_install.html\n",
      "  from tqdm.autonotebook import tqdm\n"
     ]
    }
   ],
   "source": [
    "import streamlit as st\n",
    "import openai\n",
    "import langchain\n",
    "import os\n",
    "from langchain_community.document_loaders import PyPDFDirectoryLoader\n",
    "from langchain.text_splitter import RecursiveCharacterTextSplitter\n",
    "from langchain.embeddings.openai import OpenAIEmbeddings\n",
    "from langchain_community.vectorstores import Pinecone as langpinecone\n",
    "from langchain.llms import OpenAI\n",
    "from pinecone import Pinecone\n"
   ]
  },
  {
   "cell_type": "code",
   "execution_count": 5,
   "metadata": {},
   "outputs": [
    {
     "data": {
      "text/plain": [
       "1243"
      ]
     },
     "execution_count": 5,
     "metadata": {},
     "output_type": "execute_result"
    }
   ],
   "source": [
    "from dotenv import load_dotenv\n",
    "load_dotenv()\n",
    "\n",
    "# read doc\n",
    "def read_doc(directory):\n",
    "    file_loader = PyPDFDirectoryLoader(directory)\n",
    "    documents = file_loader.load()\n",
    "    return documents\n",
    "\n",
    "doc = read_doc('documents/')\n",
    "\n",
    "def chunk_data(docs, chunk_size=800, chunk_overlap=50):\n",
    "    text_splitter= RecursiveCharacterTextSplitter(chunk_size=chunk_size, chunk_overlap=chunk_overlap)\n",
    "    doc = text_splitter.split_documents(docs)\n",
    "    return doc\n",
    "\n",
    "documents=chunk_data(docs=doc)\n",
    "len(documents)"
   ]
  },
  {
   "cell_type": "code",
   "execution_count": 6,
   "metadata": {},
   "outputs": [
    {
     "name": "stderr",
     "output_type": "stream",
     "text": [
      "/Users/weimengng/Documents/VSCode/Navigator/venv/lib/python3.12/site-packages/langchain_core/_api/deprecation.py:117: LangChainDeprecationWarning: The class `langchain_community.embeddings.openai.OpenAIEmbeddings` was deprecated in langchain-community 0.0.9 and will be removed in 0.2.0. An updated version of the class exists in the langchain-openai package and should be used instead. To use it run `pip install -U langchain-openai` and import as `from langchain_openai import OpenAIEmbeddings`.\n",
      "  warn_deprecated(\n"
     ]
    },
    {
     "data": {
      "text/plain": [
       "1536"
      ]
     },
     "execution_count": 6,
     "metadata": {},
     "output_type": "execute_result"
    }
   ],
   "source": [
    "## Embedding technique of OpenAI\n",
    "embeddings = OpenAIEmbeddings(api_key=os.environ['OPENAI_API_KEY'])\n",
    "embeddings\n",
    "\n",
    "vectors=embeddings.embed_query(\"How are you\")\n",
    "len(vectors)"
   ]
  },
  {
   "cell_type": "code",
   "execution_count": 7,
   "metadata": {},
   "outputs": [],
   "source": [
    "# Create a Pinecone instance\n",
    "pc = Pinecone(\n",
    "    api_key=os.environ.get('PINECONE_API_KEY'),\n",
    "    environment=\"gcp-starter\"\n",
    ")\n",
    "\n",
    "index_name = \"langchainvector\""
   ]
  },
  {
   "cell_type": "code",
   "execution_count": 8,
   "metadata": {},
   "outputs": [],
   "source": [
    "if index_name not in pc.list_indexes().names():\n",
    "    pc.create_index(\n",
    "        name=index_name, \n",
    "        dimension=1536,  \n",
    "        metric='cosine'\n",
    "    )\n",
    "\n",
    "index = langpinecone.from_documents(doc, embeddings, index_name=index_name)"
   ]
  },
  {
   "cell_type": "code",
   "execution_count": 15,
   "metadata": {},
   "outputs": [],
   "source": [
    "## Cosine Similiarity Retrieve Results\n",
    "def retrieve_query(query,k=2):\n",
    "    matching_results=index.similarity_search(query,k=k)\n",
    "    return matching_results"
   ]
  },
  {
   "cell_type": "code",
   "execution_count": 9,
   "metadata": {},
   "outputs": [],
   "source": [
    "from langchain.chains.question_answering import load_qa_chain\n",
    "from langchain import OpenAI"
   ]
  },
  {
   "cell_type": "code",
   "execution_count": 10,
   "metadata": {},
   "outputs": [
    {
     "name": "stderr",
     "output_type": "stream",
     "text": [
      "/Users/weimengng/Documents/VSCode/Navigator/venv/lib/python3.12/site-packages/langchain_core/_api/deprecation.py:117: LangChainDeprecationWarning: The class `langchain_community.llms.openai.OpenAI` was deprecated in langchain-community 0.0.10 and will be removed in 0.2.0. An updated version of the class exists in the langchain-openai package and should be used instead. To use it run `pip install -U langchain-openai` and import as `from langchain_openai import OpenAI`.\n",
      "  warn_deprecated(\n"
     ]
    }
   ],
   "source": [
    "llm=OpenAI(model_name=\"gpt-3.5-turbo-instruct\",temperature=0.5)\n",
    "chain=load_qa_chain(llm,chain_type=\"stuff\")"
   ]
  },
  {
   "cell_type": "code",
   "execution_count": 11,
   "metadata": {},
   "outputs": [],
   "source": [
    "## Search answers from VectorDB\n",
    "def retrieve_answers(query):\n",
    "    doc_search=retrieve_query(query)\n",
    "    print(doc_search)\n",
    "    response=chain.run(input_documents=doc_search,question=query)\n",
    "    return response"
   ]
  },
  {
   "cell_type": "code",
   "execution_count": 16,
   "metadata": {},
   "outputs": [
    {
     "name": "stdout",
     "output_type": "stream",
     "text": [
      "[Document(page_content='BR 45(1)(2)\\nPILOTAGE AND BLIND PILOTAGE\\n13-24\\nOriginal\\n1315. Pilotage Planning - Keeping Clear of Dangers\\nOnce the  LDL  has been created (see Para 1311d) a nd the tracks selected (see Paras 1312\\n/ 1313), Clearing Lines  (Clearing Bearings ) should be plotted to ‘box in’ the safe navigable\\nwater completely.   See Para 1316 for Blind Pilotage Clearing Range  techniques.  The definition\\nof a  Clearing Line  (Clearing Bearing  / Clearing Range ) is:\\n “A Clearing Line  (ie Clearing Bearing / Clearing Range ) is a line over which\\nthe Bridge ( Pelorus  Conning position) of a vessel MUST NOT CROSS”.  \\na. Offset from Danger.   To allow room for the stern to swing IN from the LDL, while\\nturning the bows AWAY, Clearing Lines  should be offset from the  LDL  by a certain\\ndistance, proportional to the distance  ‘’  between the Bridge and the stern or bow,l\\nwhichever is greater .  The proportion of distance  ‘’  used as an offset from the LDL l\\nwill vary with the maximum predicted angle of  turn away from danger, the distance from\\nthe mark used for the Clearing Line  and any Gyro  or observation error.  1 / subtends\\napproximately 100 feet / 35 yards at 1 n. mile (see Para 1322f) and this factor often\\naffects the margin of safety required and thus the proportion of ‘’ needed.  Thel\\nfollowing Clearing Line  displacements from the  LDL  may be used as guidelines when\\nplanning Pilotage  or shiphandling, but each case must be considered on its merits and\\nthe NO / CO should make a considered judgement on each occasion.\\n• Normal Pilotage.  For normal Pilotage , where the width of the channel is not\\ncritical, it is usual to offset Clearing Lines from the LDL by at least distance\\n‘’ (ie Bridge-to-Stern / Bow distance - whichever is greater), to allow forl\\npossible Gyro  or observation errors.  An offset greater than distance  ‘’  mayl\\nbe required, particularly if the Clearing Line  mark is a long way away.\\n• Pilotage in Narrow Channels etc.   In Pilotage  or shiphandling, where the\\nwidth of the channel is restricted (eg entering Portsmouth Harbour [UK] or\\nlining up for a lock entrance etc), using a Clearing Line  offset distance  ‘’l\\nmay preclude either transit through that channel or the shiphandling event\\nitself.  In such cases a reduced offset of  ½ (or ¼) may be used instead.ll\\nAs Sin 30/ = ½  and  Sin 15/ = approximately ¼, these equate to a heading\\noffset of 30 / and 15/ respectively from the Clearing Bearing  (see Fig 13-9\\nbelow showing a 15 / example).  When using redu ced offset distances, possible\\nGyro  and observation errors must always  be considered, and if turning, a\\nfurther allowance should be made for the (larger) turning radius of the stern.In practice, ½\\nR  and ¼R must be used with partic ular care (as margins for\\nerror are very small) and only if absolutely necessary (see Para 1315b).\\nFig 13-9.   Offset of the Clearing Line from the LDL for a (Maximum) 15 / Turn Away', metadata={'page': 95.0, 'source': 'documents/BR45_2.pdf'}), Document(page_content='BR 45(1)(2)\\nPILOTAGE AND BLIND PILOTAGE\\n13-24\\nOriginal\\n1315. Pilotage Planning - Keeping Clear of Dangers\\nOnce the  LDL  has been created (see Para 1311d) a nd the tracks selected (see Paras 1312\\n/ 1313), Clearing Lines  (Clearing Bearings ) should be plotted to ‘box in’ the safe navigable\\nwater completely.   See Para 1316 for Blind Pilotage Clearing Range  techniques.  The definition\\nof a  Clearing Line  (Clearing Bearing  / Clearing Range ) is:\\n “A Clearing Line  (ie Clearing Bearing / Clearing Range ) is a line over which\\nthe Bridge ( Pelorus  Conning position) of a vessel MUST NOT CROSS”.  \\na. Offset from Danger.   To allow room for the stern to swing IN from the LDL, while\\nturning the bows AWAY, Clearing Lines  should be offset from the  LDL  by a certain\\ndistance, proportional to the distance  ‘’  between the Bridge and the stern or bow,l\\nwhichever is greater .  The proportion of distance  ‘’  used as an offset from the LDL l\\nwill vary with the maximum predicted angle of  turn away from danger, the distance from\\nthe mark used for the Clearing Line  and any Gyro  or observation error.  1 / subtends\\napproximately 100 feet / 35 yards at 1 n. mile (see Para 1322f) and this factor often\\naffects the margin of safety required and thus the proportion of ‘’ needed.  Thel\\nfollowing Clearing Line  displacements from the  LDL  may be used as guidelines when\\nplanning Pilotage  or shiphandling, but each case must be considered on its merits and\\nthe NO / CO should make a considered judgement on each occasion.\\n• Normal Pilotage.  For normal Pilotage , where the width of the channel is not\\ncritical, it is usual to offset Clearing Lines from the LDL by at least distance\\n‘’ (ie Bridge-to-Stern / Bow distance - whichever is greater), to allow forl\\npossible Gyro  or observation errors.  An offset greater than distance  ‘’  mayl\\nbe required, particularly if the Clearing Line  mark is a long way away.\\n• Pilotage in Narrow Channels etc.   In Pilotage  or shiphandling, where the\\nwidth of the channel is restricted (eg entering Portsmouth Harbour [UK] or\\nlining up for a lock entrance etc), using a Clearing Line  offset distance  ‘’l\\nmay preclude either transit through that channel or the shiphandling event\\nitself.  In such cases a reduced offset of  ½ (or ¼) may be used instead.ll\\nAs Sin 30/ = ½  and  Sin 15/ = approximately ¼, these equate to a heading\\noffset of 30 / and 15/ respectively from the Clearing Bearing  (see Fig 13-9\\nbelow showing a 15 / example).  When using redu ced offset distances, possible\\nGyro  and observation errors must always  be considered, and if turning, a\\nfurther allowance should be made for the (larger) turning radius of the stern.In practice, ½\\nR  and ¼R must be used with partic ular care (as margins for\\nerror are very small) and only if absolutely necessary (see Para 1315b).\\nFig 13-9.   Offset of the Clearing Line from the LDL for a (Maximum) 15 / Turn Away', metadata={'page': 95.0, 'source': 'documents/BR45_2.pdf'})]\n"
     ]
    },
    {
     "name": "stderr",
     "output_type": "stream",
     "text": [
      "/Users/weimengng/Documents/VSCode/Navigator/venv/lib/python3.12/site-packages/langchain_core/_api/deprecation.py:117: LangChainDeprecationWarning: The function `run` was deprecated in LangChain 0.1.0 and will be removed in 0.2.0. Use invoke instead.\n",
      "  warn_deprecated(\n"
     ]
    },
    {
     "name": "stdout",
     "output_type": "stream",
     "text": [
      " A clearing bearing is a line over which the bridge of a vessel must not cross in order to keep clear of dangers while navigating. It is used in pilotage planning to plot a safe route and ensure the vessel stays within navigable waters. The distance from the bridge to the clearing bearing may vary depending on factors such as the maximum predicted angle of turn away from danger and any gyro or observation errors. In some cases, a reduced offset may be used if the width of the channel is restricted.\n"
     ]
    }
   ],
   "source": [
    "our_query = \"Explain what is a clearing bearing\"\n",
    "answer = retrieve_answers(our_query)\n",
    "print(answer)"
   ]
  }
 ],
 "metadata": {
  "kernelspec": {
   "display_name": "Python 3",
   "language": "python",
   "name": "python3"
  },
  "language_info": {
   "codemirror_mode": {
    "name": "ipython",
    "version": 3
   },
   "file_extension": ".py",
   "mimetype": "text/x-python",
   "name": "python",
   "nbconvert_exporter": "python",
   "pygments_lexer": "ipython3",
   "version": "3.12.2"
  }
 },
 "nbformat": 4,
 "nbformat_minor": 2
}
